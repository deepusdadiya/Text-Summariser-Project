{
 "cells": [
  {
   "cell_type": "code",
   "execution_count": null,
   "metadata": {},
   "outputs": [],
   "source": [
    "def clean_text(text):\n",
    "    try:\n",
    "        cleaned_text = re.sub(r'[^a-zA-Z]+', ' ', text)\n",
    "        cleaned_text = re.sub(r'(?<=[a-z])[A-Z]', r' \\g<0>', cleaned_text)\n",
    "        cleaned_text = \" \".join(cleaned_text.split()).lower()\n",
    "    except TypeError:\n",
    "        cleaned_text = text\n",
    "    return cleaned_text\n",
    "\n",
    "\n",
    "def contains_dml_keywords(q):\n",
    "    if len(set(query_validation_list).intersection(clean_text(q.lower()).split(' '))) > 0:\n",
    "        return True\n",
    "    return False"
   ]
  }
 ],
 "metadata": {
  "language_info": {
   "name": "python"
  }
 },
 "nbformat": 4,
 "nbformat_minor": 2
}
