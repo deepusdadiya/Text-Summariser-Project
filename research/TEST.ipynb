{
 "cells": [
  {
   "cell_type": "code",
   "execution_count": null,
   "metadata": {},
   "outputs": [],
   "source": [
    "def is_invalid(query):\n",
    "    query = re.sub(r\"\\W+\", \" \", query.lower())\n",
    "    for word in query_validation_list:\n",
    "        if word in query.split():\n",
    "            print(word)\n",
    "            return True\n",
    " \n",
    "    return False"
   ]
  }
 ],
 "metadata": {
  "language_info": {
   "name": "python"
  }
 },
 "nbformat": 4,
 "nbformat_minor": 2
}
